{
  "nbformat": 4,
  "nbformat_minor": 0,
  "metadata": {
    "colab": {
      "provenance": [],
      "authorship_tag": "ABX9TyOP3vpg3fezUpaR5f2PqB81",
      "include_colab_link": true
    },
    "kernelspec": {
      "name": "python3",
      "display_name": "Python 3"
    },
    "language_info": {
      "name": "python"
    }
  },
  "cells": [
    {
      "cell_type": "markdown",
      "metadata": {
        "id": "view-in-github",
        "colab_type": "text"
      },
      "source": [
        "<a href=\"https://colab.research.google.com/github/2203A51368/AIML-19/blob/main/Assignment_2.ipynb\" target=\"_parent\"><img src=\"https://colab.research.google.com/assets/colab-badge.svg\" alt=\"Open In Colab\"/></a>"
      ]
    },
    {
      "cell_type": "code",
      "execution_count": 1,
      "metadata": {
        "colab": {
          "base_uri": "https://localhost:8080/"
        },
        "id": "kekEHSP3lLhR",
        "outputId": "6b1809f6-7023-43a4-8a4b-3b4324987d5a"
      },
      "outputs": [
        {
          "output_type": "stream",
          "name": "stdout",
          "text": [
            "the product array is [10 22 36 52 70 90]\n",
            "the sum array is [11 13 15 17 19 21]\n",
            "the divided array is [10.    5.5   4.    3.25  2.8   2.5 ]\n"
          ]
        }
      ],
      "source": [
        "import numpy as np\n",
        "arr1=np.array([1,2,3,4,5,6,])\n",
        "arr2=np.array([10,11,12,13,14,15])\n",
        "arr3=arr1*arr2\n",
        "arr4=arr1+arr2\n",
        "arr5=arr2/arr1\n",
        "arr6=arr2**arr1\n",
        "print(\"the product array is\",arr3)\n",
        "print(\"the sum array is\",arr4)\n",
        "print(\"the divided array is\",arr5)"
      ]
    }
  ]
}